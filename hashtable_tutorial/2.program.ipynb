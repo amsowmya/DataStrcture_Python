{
 "cells": [
  {
   "cell_type": "code",
   "execution_count": 1,
   "id": "eb6e929c",
   "metadata": {},
   "outputs": [],
   "source": [
    "def get_hash(key):\n",
    "    h = 0\n",
    "    for char in key:\n",
    "        h += ord(char)\n",
    "    return h % 100"
   ]
  },
  {
   "cell_type": "code",
   "execution_count": 4,
   "id": "3b9cc2d9",
   "metadata": {},
   "outputs": [
    {
     "data": {
      "text/plain": [
       "9"
      ]
     },
     "execution_count": 4,
     "metadata": {},
     "output_type": "execute_result"
    }
   ],
   "source": [
    "get_hash('march 6')"
   ]
  },
  {
   "cell_type": "code",
   "execution_count": 22,
   "id": "f6c55170",
   "metadata": {},
   "outputs": [],
   "source": [
    "class HashTable:\n",
    "    def __init__(self):\n",
    "        self.MAX = 100\n",
    "        self.arr = [None for i in range(self.MAX)]\n",
    "        \n",
    "    def get_hash(self, key):\n",
    "        h = 0\n",
    "        for char in key:\n",
    "            h += ord(char)\n",
    "            \n",
    "        return h % self.MAX\n",
    "    \n",
    "#     def add(self, key, val):\n",
    "#         h = self.get_hash(key)\n",
    "#         self.arr[h] = val\n",
    "        \n",
    "#     def get(self, key):\n",
    "#         h = self.get_hash(key)\n",
    "#         return self.arr[h]\n",
    "\n",
    "    def __setitem__(self, key, val):\n",
    "        h = self.get_hash(key)\n",
    "        self.arr[h] = val\n",
    "        \n",
    "    def __getitem__(self, key):\n",
    "        h = self.get_hash(key)\n",
    "        return self.arr[h]\n",
    "    \n",
    "    def __delitem__(self, key):\n",
    "        h = self.get_hash(key)\n",
    "        self.arr[h] = None\n",
    "    "
   ]
  },
  {
   "cell_type": "code",
   "execution_count": 23,
   "id": "075e896d",
   "metadata": {},
   "outputs": [
    {
     "data": {
      "text/plain": [
       "9"
      ]
     },
     "execution_count": 23,
     "metadata": {},
     "output_type": "execute_result"
    }
   ],
   "source": [
    "t = HashTable()\n",
    "t.get_hash('march 6')"
   ]
  },
  {
   "cell_type": "code",
   "execution_count": 15,
   "id": "d180f056",
   "metadata": {},
   "outputs": [],
   "source": [
    "# t.add('march 7', 333)\n",
    "# t.get('march 7')"
   ]
  },
  {
   "cell_type": "code",
   "execution_count": 16,
   "id": "0c053732",
   "metadata": {},
   "outputs": [],
   "source": [
    "t = HashTable()\n",
    "t['march 08'] = 444\n",
    "t['march 09'] = 898"
   ]
  },
  {
   "cell_type": "code",
   "execution_count": 17,
   "id": "453d30a9",
   "metadata": {},
   "outputs": [
    {
     "data": {
      "text/plain": [
       "898"
      ]
     },
     "execution_count": 17,
     "metadata": {},
     "output_type": "execute_result"
    }
   ],
   "source": [
    "t['march 09']"
   ]
  },
  {
   "cell_type": "code",
   "execution_count": 24,
   "id": "a1234488",
   "metadata": {},
   "outputs": [],
   "source": [
    "del t['march 09']"
   ]
  },
  {
   "cell_type": "code",
   "execution_count": 25,
   "id": "3e53cb31",
   "metadata": {},
   "outputs": [],
   "source": [
    "t['march 09']"
   ]
  },
  {
   "cell_type": "markdown",
   "id": "dc2e88fa",
   "metadata": {},
   "source": [
    "# colleasion problem"
   ]
  },
  {
   "cell_type": "code",
   "execution_count": 46,
   "id": "3636a74b",
   "metadata": {},
   "outputs": [
    {
     "name": "stdout",
     "output_type": "stream",
     "text": [
      "109\n"
     ]
    }
   ],
   "source": [
    "for i in range(10, 1000):\n",
    "    h = get_hash(f'march {i}')\n",
    "    if h == 9:\n",
    "        print(i)\n",
    "        break\n",
    "\n",
    "    "
   ]
  },
  {
   "cell_type": "code",
   "execution_count": 26,
   "id": "1ed62e50",
   "metadata": {},
   "outputs": [
    {
     "data": {
      "text/plain": [
       "9"
      ]
     },
     "execution_count": 26,
     "metadata": {},
     "output_type": "execute_result"
    }
   ],
   "source": [
    "get_hash('march 6')"
   ]
  },
  {
   "cell_type": "code",
   "execution_count": 47,
   "id": "120adebe",
   "metadata": {},
   "outputs": [
    {
     "data": {
      "text/plain": [
       "9"
      ]
     },
     "execution_count": 47,
     "metadata": {},
     "output_type": "execute_result"
    }
   ],
   "source": [
    "get_hash('march 109')"
   ]
  },
  {
   "cell_type": "code",
   "execution_count": 48,
   "id": "7813bddc",
   "metadata": {},
   "outputs": [],
   "source": [
    "t['march 6'] = 120\n",
    "t['march 109'] = 150"
   ]
  },
  {
   "cell_type": "code",
   "execution_count": 49,
   "id": "8d65c9c3",
   "metadata": {},
   "outputs": [
    {
     "data": {
      "text/plain": [
       "150"
      ]
     },
     "execution_count": 49,
     "metadata": {},
     "output_type": "execute_result"
    }
   ],
   "source": [
    "t['march 6']"
   ]
  },
  {
   "cell_type": "code",
   "execution_count": null,
   "id": "7c9537d1",
   "metadata": {},
   "outputs": [],
   "source": []
  }
 ],
 "metadata": {
  "kernelspec": {
   "display_name": "Python 3 (ipykernel)",
   "language": "python",
   "name": "python3"
  },
  "language_info": {
   "codemirror_mode": {
    "name": "ipython",
    "version": 3
   },
   "file_extension": ".py",
   "mimetype": "text/x-python",
   "name": "python",
   "nbconvert_exporter": "python",
   "pygments_lexer": "ipython3",
   "version": "3.9.12"
  }
 },
 "nbformat": 4,
 "nbformat_minor": 5
}
