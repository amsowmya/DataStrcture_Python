{
 "cells": [
  {
   "cell_type": "code",
   "execution_count": 1,
   "id": "d946dd5d",
   "metadata": {},
   "outputs": [],
   "source": [
    "class HashTable:\n",
    "    def __init__(self):\n",
    "        self.MAX = 10\n",
    "        self.arr = [[] for i in range(self.MAX)]\n",
    "        \n",
    "    def get_hash(self, key):\n",
    "        h = 0\n",
    "        for char in key:\n",
    "            h += ord(char)\n",
    "            \n",
    "        return h % self.MAX\n",
    "    \n",
    "    def __setitem__(self, key, val):\n",
    "        h = self.get_hash(key)\n",
    "        found = False\n",
    "        for idx, element in enumerate(self.arr[h]):\n",
    "            if len(element) == 2 and element[0] == key:\n",
    "                self.arr[h][idx] = (key, val)\n",
    "                found = True\n",
    "                break\n",
    "        \n",
    "        if not found:\n",
    "            self.arr[h].append((key, val))\n",
    "        \n",
    "    def __getitem__(self, key):\n",
    "        h = self.get_hash(key)\n",
    "        for element in self.arr[h]:\n",
    "            if element[0] == key:\n",
    "                return element[1]\n",
    "            \n",
    "    def __delitem__(self, key):\n",
    "        h = self.get_hash(key)\n",
    "        for idx, element in enumerate(self.arr[h]):\n",
    "            if element[0] == key:\n",
    "                del self.arr[h][idx]"
   ]
  },
  {
   "cell_type": "code",
   "execution_count": 2,
   "id": "a7f3beb4",
   "metadata": {},
   "outputs": [],
   "source": [
    "t = HashTable()"
   ]
  },
  {
   "cell_type": "code",
   "execution_count": 3,
   "id": "5f061e6b",
   "metadata": {},
   "outputs": [],
   "source": [
    "t['march 6'] = 99\n",
    "t['march 2'] = 999\n",
    "t['march 109'] = 88\n",
    "t['march 109'] = 100"
   ]
  },
  {
   "cell_type": "code",
   "execution_count": 4,
   "id": "0bdc7ad1",
   "metadata": {},
   "outputs": [
    {
     "data": {
      "text/plain": [
       "100"
      ]
     },
     "execution_count": 4,
     "metadata": {},
     "output_type": "execute_result"
    }
   ],
   "source": [
    "t['march 109']"
   ]
  },
  {
   "cell_type": "code",
   "execution_count": 5,
   "id": "dbeddddb",
   "metadata": {},
   "outputs": [],
   "source": [
    "del t['march 109']"
   ]
  },
  {
   "cell_type": "code",
   "execution_count": null,
   "id": "c8949c2a",
   "metadata": {},
   "outputs": [],
   "source": []
  }
 ],
 "metadata": {
  "kernelspec": {
   "display_name": "Python 3 (ipykernel)",
   "language": "python",
   "name": "python3"
  },
  "language_info": {
   "codemirror_mode": {
    "name": "ipython",
    "version": 3
   },
   "file_extension": ".py",
   "mimetype": "text/x-python",
   "name": "python",
   "nbconvert_exporter": "python",
   "pygments_lexer": "ipython3",
   "version": "3.9.12"
  }
 },
 "nbformat": 4,
 "nbformat_minor": 5
}
